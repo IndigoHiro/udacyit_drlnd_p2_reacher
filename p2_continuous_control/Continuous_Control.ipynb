{
 "cells": [
  {
   "cell_type": "markdown",
   "metadata": {},
   "source": [
    "# Continuous Control\n",
    "\n",
    "---\n",
    "\n",
    "This notebook is for the second project of the [Deep Reinforcement Learning Nanodegree](https://www.udacity.com/course/deep-reinforcement-learning-nanodegree--nd893) program.\n",
    "\n",
    "### 1. Start the Environment\n",
    "\n",
    "Let's begin by importing the necessary packages.  If the code cell below returns an error, please revisit the project instructions to double-check that you have installed [Unity ML-Agents](https://github.com/Unity-Technologies/ml-agents/blob/master/docs/Installation.md) and [NumPy](http://www.numpy.org/)."
   ]
  },
  {
   "cell_type": "code",
   "execution_count": 1,
   "metadata": {},
   "outputs": [],
   "source": [
    "from unityagents import UnityEnvironment\n",
    "import numpy as np"
   ]
  },
  {
   "cell_type": "markdown",
   "metadata": {},
   "source": [
    "Next, let's start the environment.  **_Before running the code cell below_**, change the `file_name` parameter to match the location of the Unity environment that you downloaded.\n",
    "\n",
    "- **Mac**: `\"path/to/Reacher.app\"`\n",
    "- **Windows** (x86): `\"path/to/Reacher_Windows_x86/Reacher.exe\"`\n",
    "- **Windows** (x86_64): `\"path/to/Reacher_Windows_x86_64/Reacher.exe\"`\n",
    "- **Linux** (x86): `\"path/to/Reacher_Linux/Reacher.x86\"`\n",
    "- **Linux** (x86_64): `\"path/to/Reacher_Linux/Reacher.x86_64\"`\n",
    "- **Linux** (x86, headless): `\"path/to/Reacher_Linux_NoVis/Reacher.x86\"`\n",
    "- **Linux** (x86_64, headless): `\"path/to/Reacher_Linux_NoVis/Reacher.x86_64\"`\n",
    "\n",
    "For instance, if you are using a Mac, then you downloaded `Reacher.app`.  If this file is in the same folder as the notebook, then the line below should appear as follows:\n",
    "```\n",
    "env = UnityEnvironment(file_name=\"Reacher.app\")\n",
    "```"
   ]
  },
  {
   "cell_type": "code",
   "execution_count": 2,
   "metadata": {},
   "outputs": [
    {
     "name": "stderr",
     "output_type": "stream",
     "text": [
      "INFO:unityagents:\n",
      "'Academy' started successfully!\n",
      "Unity Academy name: Academy\n",
      "        Number of Brains: 1\n",
      "        Number of External Brains : 1\n",
      "        Lesson number : 0\n",
      "        Reset Parameters :\n",
      "\t\tgoal_speed -> 1.0\n",
      "\t\tgoal_size -> 5.0\n",
      "Unity brain name: ReacherBrain\n",
      "        Number of Visual Observations (per agent): 0\n",
      "        Vector Observation space type: continuous\n",
      "        Vector Observation space size (per agent): 33\n",
      "        Number of stacked Vector Observation: 1\n",
      "        Vector Action space type: continuous\n",
      "        Vector Action space size (per agent): 4\n",
      "        Vector Action descriptions: , , , \n"
     ]
    }
   ],
   "source": [
    "env = UnityEnvironment(file_name='Reacher20_Windows_x86_64/Reacher.exe')"
   ]
  },
  {
   "cell_type": "markdown",
   "metadata": {},
   "source": [
    "Environments contain **_brains_** which are responsible for deciding the actions of their associated agents. The next cell checks for the first brain available, and set it as the default brain we will be controlling from Python."
   ]
  },
  {
   "cell_type": "code",
   "execution_count": 3,
   "metadata": {},
   "outputs": [],
   "source": [
    "# get the default brain\n",
    "brain_name = env.brain_names[0]\n",
    "brain = env.brains[brain_name]"
   ]
  },
  {
   "cell_type": "markdown",
   "metadata": {},
   "source": [
    "### 2. Examine the State and Action Spaces\n",
    "\n",
    "In this environment, a double-jointed arm can move to target locations. A reward of `+0.1` is provided for each step that the agent's hand is in the goal location. Thus, the goal of the agent is to maintain its position at the target location for as many time steps as possible.\n",
    "\n",
    "The observation space consists of `33` variables corresponding to position, rotation, velocity, and angular velocities of the arm.  Each action is a vector with four numbers, corresponding to torque applicable to two joints.  Every entry in the action vector must be a number between `-1` and `1`.\n",
    "\n",
    "Run the code cell below to print some information about the environment."
   ]
  },
  {
   "cell_type": "code",
   "execution_count": 4,
   "metadata": {},
   "outputs": [
    {
     "name": "stdout",
     "output_type": "stream",
     "text": [
      "Number of agents: 20\n",
      "Size of each action: 4\n",
      "There are 20 agents. Each observes a state with length: 33\n",
      "The state for the first agent looks like: [ 0.00000000e+00 -4.00000000e+00  0.00000000e+00  1.00000000e+00\n",
      " -0.00000000e+00 -0.00000000e+00 -4.37113883e-08  0.00000000e+00\n",
      "  0.00000000e+00  0.00000000e+00  0.00000000e+00  0.00000000e+00\n",
      "  0.00000000e+00  0.00000000e+00 -1.00000000e+01  0.00000000e+00\n",
      "  1.00000000e+00 -0.00000000e+00 -0.00000000e+00 -4.37113883e-08\n",
      "  0.00000000e+00  0.00000000e+00  0.00000000e+00  0.00000000e+00\n",
      "  0.00000000e+00  0.00000000e+00  5.75471878e+00 -1.00000000e+00\n",
      "  5.55726624e+00  0.00000000e+00  1.00000000e+00  0.00000000e+00\n",
      " -1.68164849e-01]\n"
     ]
    }
   ],
   "source": [
    "# reset the environment\n",
    "env_info = env.reset(train_mode=True)[brain_name]\n",
    "\n",
    "# number of agents\n",
    "num_agents = len(env_info.agents)\n",
    "print('Number of agents:', num_agents)\n",
    "\n",
    "# size of each action\n",
    "action_size = brain.vector_action_space_size\n",
    "print('Size of each action:', action_size)\n",
    "\n",
    "# examine the state space \n",
    "states = env_info.vector_observations\n",
    "state_size = states.shape[1]\n",
    "print('There are {} agents. Each observes a state with length: {}'.format(states.shape[0], state_size))\n",
    "print('The state for the first agent looks like:', states[0])"
   ]
  },
  {
   "cell_type": "markdown",
   "metadata": {},
   "source": [
    "### 3. Take Random Actions in the Environment\n",
    "\n",
    "In the next code cell, you will see how to use the Python API to control the agent and receive feedback from the environment.\n",
    "\n",
    "Once this cell is executed, you will watch the agent's performance, if it selects an action at random with each time step.  A window should pop up that allows you to observe the agent, as it moves through the environment.  "
   ]
  },
  {
   "cell_type": "code",
   "execution_count": 5,
   "metadata": {},
   "outputs": [
    {
     "name": "stdout",
     "output_type": "stream",
     "text": [
      "Total score (averaged over agents) this episode: 0.0\n"
     ]
    }
   ],
   "source": [
    "env_info = env.reset(train_mode=False)[brain_name]     # reset the environment    \n",
    "states = env_info.vector_observations                  # get the current state (for each agent)\n",
    "scores = np.zeros(num_agents)                          # initialize the score (for each agent)\n",
    "while True:\n",
    "    actions = np.random.randn(num_agents, action_size) # select an action (for each agent)\n",
    "    actions = np.clip(actions, -1, 1)                  # all actions between -1 and 1\n",
    "    env_info = env.step(actions)[brain_name]           # send all actions to tne environment\n",
    "    next_states = env_info.vector_observations         # get next state (for each agent)\n",
    "    rewards = env_info.rewards                         # get reward (for each agent)\n",
    "    dones = env_info.local_done                        # see if episode finished\n",
    "    scores += env_info.rewards                         # update the score (for each agent)\n",
    "    states = next_states                               # roll over states to next time step\n",
    "    if np.any(dones):                                  # exit loop if episode finished\n",
    "        break\n",
    "print('Total score (averaged over agents) this episode: {}'.format(np.mean(scores)))"
   ]
  },
  {
   "cell_type": "markdown",
   "metadata": {},
   "source": [
    "### 4. Let's train the model!\n",
    "\n",
    "Now let's train the agent to solve the environment!  A DDPG agent to train Actor/Critic models is implemented as DdpgAgent class in ddpg_agent module.  See the class for the detail algorithm. "
   ]
  },
  {
   "cell_type": "code",
   "execution_count": 5,
   "metadata": {},
   "outputs": [],
   "source": [
    "from ddpg_agent import DdpgAgent\n",
    "from collections import deque\n",
    "import matplotlib.pyplot as plt\n",
    "%matplotlib inline\n",
    "\n",
    "import torch\n",
    "\n",
    "#device = torch.device(\"cuda:0\" if torch.cuda.is_available() else \"cpu\")\n",
    "device = \"cpu\""
   ]
  },
  {
   "cell_type": "markdown",
   "metadata": {},
   "source": [
    "Configure the DdpgAgent class."
   ]
  },
  {
   "cell_type": "code",
   "execution_count": 6,
   "metadata": {},
   "outputs": [],
   "source": [
    "config = dict(env=dict(state_size=state_size,\n",
    "                      action_size=action_size,\n",
    "                      simulator=env,\n",
    "                      brain_name=brain_name,\n",
    "                      num_agents=num_agents),\n",
    "             actor=dict(hidden_layers=[128, 128, 64]),\n",
    "             critic=dict(hidden_layers=[128, 128, 64]),\n",
    "             learning=dict(buffer_size=int(1e5),\n",
    "                          batch_size=512,\n",
    "                          discount=0.9,\n",
    "                          max_t=10000,\n",
    "                          soft_update_tau=0.001,\n",
    "                          lr_actor=0.001,\n",
    "                          lr_critic=0.001,\n",
    "                          lr_decay=dict(activate=False,\n",
    "                                       actor_step=100,\n",
    "                                       actor_gamma=0.5,\n",
    "                                       critic_step=100,\n",
    "                                       critic_gamma=0.5),\n",
    "                          learn_every_n_steps=1,\n",
    "                          num_learn_steps=1,\n",
    "                          checkpointfile=\"checkpoint.pth\"\n",
    "                          )\n",
    "             )\n",
    "\n",
    "agent = DdpgAgent(config, 2, device)"
   ]
  },
  {
   "cell_type": "markdown",
   "metadata": {},
   "source": [
    "Then, start the training."
   ]
  },
  {
   "cell_type": "code",
   "execution_count": 7,
   "metadata": {},
   "outputs": [
    {
     "name": "stdout",
     "output_type": "stream",
     "text": [
      "Eposode 0/ Score 0.18999999575316906\n",
      "Eposode 1/ Score 0.6789999848231674\n",
      "Eposode 2/ Score 0.917999979481101\n",
      "Eposode 3/ Score 0.92149997940287\n",
      "Eposode 4/ Score 1.2369999723508953\n",
      "Eposode 5/ Score 1.0139999773353339\n",
      "Eposode 6/ Score 1.3989999687299133\n",
      "Eposode 7/ Score 1.5764999647624791\n",
      "Eposode 8/ Score 1.5764999647624791\n",
      "Eposode 9/ Score 2.20749995065853\n",
      "Eposode 10/ Score 2.3444999475963413\n",
      "Eposode 11/ Score 2.8479999363422395\n",
      "Eposode 12/ Score 4.6854998952709135\n",
      "Eposode 13/ Score 7.014999843202531\n",
      "Eposode 14/ Score 11.268499748129397\n",
      "Eposode 15/ Score 14.171499683242292\n",
      "Eposode 16/ Score 19.320499568153174\n",
      "Eposode 17/ Score 22.83049948969856\n",
      "Eposode 18/ Score 29.315499344747515\n",
      "Eposode 19/ Score 29.58499933872372\n",
      "Eposode 20/ Score 30.662499314639717\n",
      "Eposode 21/ Score 32.07299928311259\n",
      "Eposode 22/ Score 30.780999311991035\n",
      "Eposode 23/ Score 31.291499300580472\n",
      "Eposode 24/ Score 30.669499314483254\n",
      "Eposode 25/ Score 32.45849927449599\n",
      "Eposode 26/ Score 33.98199924044311\n",
      "Eposode 27/ Score 34.51999922841787\n",
      "Eposode 28/ Score 34.798999222181735\n",
      "Eposode 29/ Score 34.76199922300875\n",
      "Eposode 30/ Score 35.631999203562735\n",
      "Eposode 31/ Score 36.365499187167735\n",
      "Eposode 32/ Score 36.95399917401373\n",
      "Eposode 33/ Score 36.872999175824226\n",
      "Eposode 34/ Score 34.80599922202528\n",
      "Eposode 35/ Score 35.19699921328574\n",
      "Eposode 36/ Score 36.167999191582204\n",
      "Eposode 37/ Score 36.577499182429165\n",
      "Eposode 38/ Score 36.08049919353798\n",
      "Eposode 39/ Score 32.47549927411601\n",
      "Eposode 40/ Score 33.362499254290015\n",
      "Eposode 41/ Score 35.51749920612201\n",
      "Eposode 42/ Score 35.57299920488149\n",
      "Eposode 43/ Score 35.36849920945242\n",
      "Eposode 44/ Score 34.99349921783433\n",
      "Eposode 45/ Score 36.46599918492139\n",
      "Eposode 46/ Score 35.87099919822067\n",
      "Eposode 47/ Score 36.41699918601662\n",
      "Eposode 48/ Score 35.25399921201169\n",
      "Eposode 49/ Score 34.38249923149124\n",
      "Eposode 50/ Score 35.82649919921532\n",
      "Eposode 51/ Score 33.89399924241006\n",
      "Eposode 52/ Score 32.69099926929921\n",
      "Eposode 53/ Score 36.400499186385424\n",
      "Eposode 54/ Score 35.707999201864006\n",
      "Eposode 55/ Score 35.519499206077306\n",
      "Eposode 56/ Score 35.32499921042472\n",
      "Eposode 57/ Score 34.11049923757091\n",
      "Eposode 58/ Score 33.036999261565505\n",
      "Eposode 59/ Score 32.11599928215146\n",
      "Eposode 60/ Score 33.92749924166128\n",
      "Eposode 61/ Score 35.44449920775369\n",
      "Eposode 62/ Score 35.15349921425805\n",
      "Eposode 63/ Score 35.54199920557439\n",
      "Eposode 64/ Score 36.12249919259921\n",
      "Eposode 65/ Score 34.838999221287665\n",
      "Eposode 66/ Score 35.565999205037954\n",
      "Eposode 67/ Score 35.647499203216285\n",
      "Eposode 68/ Score 36.928999174572525\n",
      "Eposode 69/ Score 35.7949991999194\n",
      "Eposode 70/ Score 35.9854991956614\n",
      "Eposode 71/ Score 36.592999182082714\n",
      "Eposode 72/ Score 36.65149918077513\n",
      "Eposode 73/ Score 33.283499256055805\n",
      "Eposode 74/ Score 36.56549918269739\n",
      "Eposode 75/ Score 36.35199918746948\n",
      "Eposode 76/ Score 36.93649917440489\n",
      "Eposode 77/ Score 35.32899921033531\n",
      "Eposode 78/ Score 33.64899924788624\n",
      "Eposode 79/ Score 31.677999291941525\n",
      "Eposode 80/ Score 29.46999934129417\n",
      "Eposode 81/ Score 30.68949931403622\n",
      "Eposode 82/ Score 30.755499312561007\n",
      "Eposode 83/ Score 30.064999327994883\n",
      "Eposode 84/ Score 34.00599923990667\n",
      "Eposode 85/ Score 34.25449923435226\n",
      "Eposode 86/ Score 35.5794992047362\n",
      "Eposode 87/ Score 37.20099916849286\n",
      "Eposode 88/ Score 38.50349913937971\n",
      "Eposode 89/ Score 38.35299914274365\n",
      "Eposode 90/ Score 36.834499176684766\n",
      "Eposode 91/ Score 35.21549921287224\n",
      "Eposode 92/ Score 33.27949925614521\n",
      "Eposode 93/ Score 34.44299923013896\n",
      "Eposode 94/ Score 34.72699922379106\n",
      "Eposode 95/ Score 35.03899921681732\n",
      "Eposode 96/ Score 34.63299922589213\n",
      "Eposode 97/ Score 35.946999196521936\n",
      "Eposode 98/ Score 35.357999209687115\n",
      "Eposode 99/ Score 36.50999918393791\n",
      "Eposode 100/ Score 36.20849919067696\n",
      "Eposode 101/ Score 37.17849916899577\n",
      "Eposode 102/ Score 38.556499138195065\n",
      "Eposode 103/ Score 36.69149917988106\n",
      "Eposode 104/ Score 36.86899917591363\n",
      "Eposode 105/ Score 36.18799919113517\n",
      "Eposode 106/ Score 34.73149922369048\n",
      "Eposode 107/ Score 34.99449921781197\n",
      "Eposode 108/ Score 36.31349918833003\n",
      "Eposode 109/ Score 35.6664992027916\n",
      "Eposode 110/ Score 35.714499201718716\n",
      "Eposode 111/ Score 35.23699921239167\n",
      "Eposode 112/ Score 37.83899915423244\n",
      "Eposode 113/ Score 37.36399916484952\n",
      "Eposode 114/ Score 37.21099916826934\n",
      "Eposode 115/ Score 37.01499917265028\n",
      "Eposode 116/ Score 36.32199918814003\n",
      "Eposode 117/ Score 35.30449921088293\n",
      "Eposode 118/ Score 35.08249921584502\n",
      "Eposode 119/ Score 34.983499218057844\n",
      "Eposode 120/ Score 35.594499204400925\n",
      "Eposode 121/ Score 34.12999923713505\n",
      "Eposode 122/ Score 33.00149926235899\n",
      "Eposode 123/ Score 34.88049922036007\n",
      "Eposode 124/ Score 34.66899922508746\n",
      "Eposode 125/ Score 32.26349927885458\n",
      "Eposode 126/ Score 30.532499317545444\n",
      "Eposode 127/ Score 33.598999249003825\n",
      "Eposode 128/ Score 32.50899927336722\n",
      "Eposode 129/ Score 34.30449923323467\n",
      "Eposode 130/ Score 33.90199924223125\n",
      "Eposode 131/ Score 35.29099921118468\n",
      "Eposode 132/ Score 37.18699916880578\n",
      "Eposode 133/ Score 36.813499177154156\n",
      "Eposode 134/ Score 36.777499177958816\n",
      "Eposode 135/ Score 34.28499923367053\n",
      "Eposode 136/ Score 36.70549917956814\n",
      "Eposode 137/ Score 36.29299918878824\n",
      "Eposode 138/ Score 35.40099920872599\n",
      "Eposode 139/ Score 34.7919992223382\n",
      "Eposode 140/ Score 35.42949920808896\n",
      "Eposode 141/ Score 34.56449922742322\n",
      "Eposode 142/ Score 36.0829991934821\n",
      "Eposode 143/ Score 35.5814992046915\n",
      "Eposode 144/ Score 36.61699918154627\n",
      "Eposode 145/ Score 34.861999220773576\n",
      "Eposode 146/ Score 36.020499194879086\n",
      "Eposode 147/ Score 35.89299919772893\n",
      "Eposode 148/ Score 36.43449918562546\n",
      "Eposode 149/ Score 32.41599927544594\n",
      "Eposode 150/ Score 34.73999922350049\n",
      "Eposode 151/ Score 35.34849920989946\n",
      "Eposode 152/ Score 35.01849921727553\n",
      "Eposode 153/ Score 33.207499257754534\n",
      "Eposode 154/ Score 32.55349927237258\n",
      "Eposode 155/ Score 30.84299931060523\n",
      "Eposode 156/ Score 32.898499264661226\n",
      "Eposode 157/ Score 35.1214992149733\n",
      "Eposode 158/ Score 34.567499227356166\n",
      "Eposode 159/ Score 36.019499194901435\n",
      "Eposode 160/ Score 36.78599917776883\n",
      "Eposode 161/ Score 36.37649918692186\n",
      "Eposode 162/ Score 35.03599921688438\n",
      "Eposode 163/ Score 36.54349918318913\n",
      "Eposode 164/ Score 37.16849916921929\n",
      "Eposode 165/ Score 38.19649914624169\n",
      "Eposode 166/ Score 36.34149918770417\n",
      "Eposode 167/ Score 37.664999158121645\n",
      "Eposode 168/ Score 35.81399919949472\n",
      "Eposode 169/ Score 36.207999190688135\n",
      "Eposode 170/ Score 37.629999158903956\n",
      "Eposode 171/ Score 37.397499164100736\n",
      "Eposode 172/ Score 36.51349918385968\n",
      "Eposode 173/ Score 36.49049918437377\n",
      "Eposode 174/ Score 36.53249918343499\n",
      "Eposode 175/ Score 35.9109991973266\n",
      "Eposode 176/ Score 36.08099919352681\n",
      "Eposode 177/ Score 36.039999194443226\n",
      "Eposode 178/ Score 35.05899921637028\n",
      "Eposode 179/ Score 33.81549924416468\n",
      "Eposode 180/ Score 33.359999254345894\n",
      "Eposode 181/ Score 33.86299924310297\n",
      "Eposode 182/ Score 33.28949925592169\n",
      "Eposode 183/ Score 35.454999207518995\n",
      "Eposode 184/ Score 36.01149919508025\n",
      "Eposode 185/ Score 36.927499174606055\n",
      "Eposode 186/ Score 35.9689991960302\n",
      "Eposode 187/ Score 34.94649921888485\n",
      "Eposode 188/ Score 36.94099917430431\n",
      "Eposode 189/ Score 37.84749915404245\n",
      "Eposode 190/ Score 36.53399918340146\n",
      "Eposode 191/ Score 34.97999921813607\n",
      "Eposode 192/ Score 36.6609991805628\n",
      "Eposode 193/ Score 37.53949916092679\n",
      "Eposode 194/ Score 37.757999156042935\n",
      "Eposode 195/ Score 37.520499161351474\n",
      "Eposode 196/ Score 35.48049920694903\n",
      "Eposode 197/ Score 31.183999302983285\n",
      "Eposode 198/ Score 31.993999284878374\n",
      "Eposode 199/ Score 31.25499930139631\n"
     ]
    },
    {
     "data": {
      "text/plain": [
       "[<matplotlib.lines.Line2D at 0xea1fc731d0>]"
      ]
     },
     "execution_count": 7,
     "metadata": {},
     "output_type": "execute_result"
    },
    {
     "data": {
      "image/png": "[encoded data removed]",
      "text/plain": [
       "<Figure size 432x288 with 1 Axes>"
      ]
     },
     "metadata": {
      "needs_background": "light"
     },
     "output_type": "display_data"
    }
   ],
   "source": [
    "num_episodes = 200\n",
    "\n",
    "scores_deque = deque(maxlen=100)\n",
    "scores = []\n",
    "ave_scores = []\n",
    "max_score = -np.Inf\n",
    "for i_episode in range(num_episodes):\n",
    "    score = agent.steps()\n",
    "    if num_agents != 1:\n",
    "        score = np.array(score).mean()\n",
    "    scores_deque.append(score)\n",
    "    scores.append(score)\n",
    "    ave_scores.append(np.array(scores_deque).mean())\n",
    "    print(\"Eposode {}/ Score {}\".format(i_episode,score))\n",
    "\n",
    "plt.plot(scores)"
   ]
  },
  {
   "cell_type": "markdown",
   "metadata": {},
   "source": [
    "Save the trained model"
   ]
  },
  {
   "cell_type": "code",
   "execution_count": 8,
   "metadata": {},
   "outputs": [],
   "source": [
    "agent.save_model()"
   ]
  },
  {
   "cell_type": "markdown",
   "metadata": {},
   "source": [
    "Make some plots."
   ]
  },
  {
   "cell_type": "code",
   "execution_count": 8,
   "metadata": {},
   "outputs": [
    {
     "data": {
      "image/png": "[encoded data removed]",
      "text/plain": [
       "<Figure size 432x288 with 1 Axes>"
      ]
     },
     "metadata": {
      "needs_background": "light"
     },
     "output_type": "display_data"
    }
   ],
   "source": [
    "plt.plot(scores)\n",
    "plt.grid(True)"
   ]
  },
  {
   "cell_type": "code",
   "execution_count": 12,
   "metadata": {},
   "outputs": [
    {
     "name": "stdout",
     "output_type": "stream",
     "text": [
      "[29.34918934399448, 29.70937433594372, 30.074369327785444, 30.450754319372585, 30.80845431137737, 31.164774303413, 31.516514295551, 31.849839288100608, 32.1840192806311, 32.531389272866775]\n"
     ]
    },
    {
     "data": {
      "image/png": "[encoded data removed]",
      "text/plain": [
       "<Figure size 432x288 with 1 Axes>"
      ]
     },
     "metadata": {
      "needs_background": "light"
     },
     "output_type": "display_data"
    }
   ],
   "source": [
    "ave = []\n",
    "for i in range(100):\n",
    "    ave.append(np.array(scores[i:i+100]).mean())\n",
    "\n",
    "print(ave[:10])\n",
    "plt.plot(ave)\n",
    "plt.grid(True)"
   ]
  },
  {
   "cell_type": "markdown",
   "metadata": {},
   "source": [
    "### 5. Let's see how the trained model works."
   ]
  },
  {
   "cell_type": "code",
   "execution_count": 10,
   "metadata": {},
   "outputs": [],
   "source": [
    "from model import Actor\n",
    "\n",
    "checkpoint = torch.load(\"checkpoint.pth\")\n",
    "trained_model = Actor(checkpoint[\"state_size\"],\n",
    "                      checkpoint[\"action_size\"],\n",
    "                      2,\n",
    "                      checkpoint[\"hidden_layers\"])\n",
    "trained_model.load_state_dict(checkpoint[\"state_dict\"])"
   ]
  },
  {
   "cell_type": "code",
   "execution_count": 16,
   "metadata": {},
   "outputs": [
    {
     "name": "stdout",
     "output_type": "stream",
     "text": [
      "Total score (averaged over agents) this episode: 32.31199927777052\n"
     ]
    }
   ],
   "source": [
    "env_info = env.reset(train_mode=False)[brain_name] # reset the environment    \n",
    "states = np.array(env_info.vector_observations)    # get the current state\n",
    "states = torch.from_numpy(states).float().to(\"cpu\")\n",
    "scores = np.zeros(num_agents)       # initialize the score (for each agent)\n",
    "trained_model.eval()                # set train= False\n",
    "while True:\n",
    "    with torch.no_grad():\n",
    "        actions = trained_model(states).cpu().data.numpy()\n",
    "    env_info = env.step(actions)[brain_name]\n",
    "    next_states = np.array(env_info.vector_observations)\n",
    "    rewards = env_info.rewards\n",
    "    dones = env_info.local_done\n",
    "    scores += env_info.rewards\n",
    "    states = torch.from_numpy(next_states).float().to(\"cpu\")\n",
    "    if np.any(dones):\n",
    "        break\n",
    "        \n",
    "print('Total score (averaged over agents) this episode: {}'.format(np.mean(scores)))"
   ]
  },
  {
   "cell_type": "code",
   "execution_count": 19,
   "metadata": {},
   "outputs": [],
   "source": [
    "env.close()"
   ]
  },
  {
   "cell_type": "code",
   "execution_count": null,
   "metadata": {},
   "outputs": [],
   "source": []
  }
 ],
 "metadata": {
  "kernelspec": {
   "display_name": "Python 3",
   "language": "python",
   "name": "python3"
  },
  "language_info": {
   "codemirror_mode": {
    "name": "ipython",
    "version": 3
   },
   "file_extension": ".py",
   "mimetype": "text/x-python",
   "name": "python",
   "nbconvert_exporter": "python",
   "pygments_lexer": "ipython3",
   "version": "3.6.6"
  }
 },
 "nbformat": 4,
 "nbformat_minor": 2
}
